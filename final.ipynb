{
  "metadata": {
    "kernelspec": {
      "name": "python",
      "display_name": "Python (Pyodide)",
      "language": "python"
    },
    "language_info": {
      "codemirror_mode": {
        "name": "python",
        "version": 3
      },
      "file_extension": ".py",
      "mimetype": "text/x-python",
      "name": "python",
      "nbconvert_exporter": "python",
      "pygments_lexer": "ipython3",
      "version": "3.8"
    }
  },
  "nbformat_minor": 4,
  "nbformat": 4,
  "cells": [
    {
      "cell_type": "code",
      "source": "# Exercise 2 - Title of the notebook\n# (Markdown cell)\n\n# Final Project - Data Science Beginner",
      "metadata": {
        "trusted": true
      },
      "outputs": [
        {
          "execution_count": 2,
          "output_type": "execute_result",
          "data": {
            "text/plain": "'\\n# Final Project - Data Science Beginner\\n'"
          },
          "metadata": {}
        }
      ],
      "execution_count": 2
    },
    {
      "cell_type": "code",
      "source": "# Exercise 3 - Introduction (Markdown)\n\n## Introduction\nThis notebook covers fundamental concepts about data science using Python.\n",
      "metadata": {
        "trusted": true
      },
      "outputs": [
        {
          "execution_count": 3,
          "output_type": "execute_result",
          "data": {
            "text/plain": "'\\n## Introduction\\n\\nThis notebook covers fundamental concepts in data science using Python.\\n'"
          },
          "metadata": {}
        }
      ],
      "execution_count": 3
    },
    {
      "cell_type": "code",
      "source": "# Exercise 4 - Data Science Languages (Markdown)\n\n## Data Science Languages\n\n- Python\n- R\n- SQL\n- Julia",
      "metadata": {
        "trusted": true
      },
      "outputs": [
        {
          "execution_count": 4,
          "output_type": "execute_result",
          "data": {
            "text/plain": "'\\n## Data Science Languages\\n\\n- Python\\n- R\\n- SQL\\n- Julia\\n'"
          },
          "metadata": {}
        }
      ],
      "execution_count": 4
    },
    {
      "cell_type": "code",
      "source": "# Exercise 5 - Data Science Libraries (Markdown)\n\n## Data Science Libraries\n\n- Pandas\n- NumPy\n- Matplotlib\n- TensorFlow\n- Scikit-learn",
      "metadata": {
        "trusted": true
      },
      "outputs": [
        {
          "execution_count": 5,
          "output_type": "execute_result",
          "data": {
            "text/plain": "'\\n## Data Science Libraries\\n\\n- Pandas\\n- NumPy\\n- Matplotlib\\n- TensorFlow\\n- Scikit-learn\\n'"
          },
          "metadata": {}
        }
      ],
      "execution_count": 5
    },
    {
      "cell_type": "code",
      "source": "# Exercise 6 - Table of Data Science Tools (Markdown)\n\n## Data Science Tools Table\n\n| Tool           | Description                          |\n|----------------|--------------------------------------|\n| Jupyter        | Notebook interface for code & notes  |\n| GitHub         | Version control and collaboration    |\n| Watson Studio  | IBM cloud-based data science platform|\n| RStudio        | IDE for R programming                |\n",
      "metadata": {
        "trusted": true
      },
      "outputs": [
        {
          "execution_count": 6,
          "output_type": "execute_result",
          "data": {
            "text/plain": "'\\n## Data Science Tools Table\\n\\n| Tool           | Description                          |\\n|----------------|--------------------------------------|\\n| Jupyter        | Notebook interface for code & notes  |\\n| GitHub         | Version control and collaboration    |\\n| Watson Studio  | IBM cloud-based data science platform|\\n| RStudio        | IDE for R programming                |\\n'"
          },
          "metadata": {}
        }
      ],
      "execution_count": 6
    },
    {
      "cell_type": "code",
      "source": "# Exercise 7 - Intro to Arithmetic (Markdown)\n\n## Arithmetic Expressions\n\nThe following examples demonstrate how to performs addition and multiplication in Python language.",
      "metadata": {
        "trusted": true
      },
      "outputs": [
        {
          "execution_count": 7,
          "output_type": "execute_result",
          "data": {
            "text/plain": "'\\n## Arithmetic Expressions\\n\\nThe following examples demonstrate how Python performs addition and multiplication.\\n'"
          },
          "metadata": {}
        }
      ],
      "execution_count": 7
    },
    {
      "cell_type": "code",
      "source": "# Exercise 8 - Code Cell: Multiply and Add\n(4 * 5) + 3",
      "metadata": {
        "trusted": true
      },
      "outputs": [
        {
          "execution_count": 8,
          "output_type": "execute_result",
          "data": {
            "text/plain": "23"
          },
          "metadata": {}
        }
      ],
      "execution_count": 8
    },
    {
      "cell_type": "code",
      "source": "# Exercise 9 - Code Cell: Convert minutes to hours\nminutes = 150\nhours = minutes / 60\nhours",
      "metadata": {
        "trusted": true
      },
      "outputs": [
        {
          "execution_count": 9,
          "output_type": "execute_result",
          "data": {
            "text/plain": "2.5"
          },
          "metadata": {}
        }
      ],
      "execution_count": 9
    },
    {
      "cell_type": "code",
      "source": "# Exercise 10 - Objectives (Markdown)\n## Objectives\n\n- List popular languages and libraries used in data science\n- Create and run arithmetic operations in code cells\n- Convert units using Python\n- Learn to structure a Jupyter notebook with Markdown and code",
      "metadata": {
        "trusted": true
      },
      "outputs": [
        {
          "execution_count": 10,
          "output_type": "execute_result",
          "data": {
            "text/plain": "'\\n## Objectives\\n\\n- List popular languages and libraries used in data science\\n- Create and run arithmetic operations in code cells\\n- Convert units using Python\\n- Learn to structure a Jupyter notebook with Markdown and code\\n'"
          },
          "metadata": {}
        }
      ],
      "execution_count": 10
    },
    {
      "cell_type": "code",
      "source": "# Exercise 11 - Author (Markdown)\n\n**Author:** Jiayi Liu",
      "metadata": {
        "trusted": true
      },
      "outputs": [
        {
          "execution_count": 11,
          "output_type": "execute_result",
          "data": {
            "text/plain": "'\\n**Author:** Jane Doe  # <- Replace with your name\\n'"
          },
          "metadata": {}
        }
      ],
      "execution_count": 11
    },
    {
      "cell_type": "code",
      "source": "# Exercise 12 - GitHub Link (Markdown)\n\n[GitHub Notebook Link](https://github.com/jackliu2001/Coursera.git)\n",
      "metadata": {
        "trusted": true
      },
      "outputs": [
        {
          "execution_count": 12,
          "output_type": "execute_result",
          "data": {
            "text/plain": "'\\n[GitHub Notebook Link](https://github.com/your-repo-url)  # <- Replace with your actual notebook link\\n'"
          },
          "metadata": {}
        }
      ],
      "execution_count": 12
    }
  ]
}