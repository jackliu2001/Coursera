{
  "metadata": {
    "kernelspec": {
      "name": "python",
      "display_name": "Python (Pyodide)",
      "language": "python"
    },
    "language_info": {
      "codemirror_mode": {
        "name": "python",
        "version": 3
      },
      "file_extension": ".py",
      "mimetype": "text/x-python",
      "name": "python",
      "nbconvert_exporter": "python",
      "pygments_lexer": "ipython3",
      "version": "3.8"
    }
  },
  "nbformat_minor": 4,
  "nbformat": 4,
  "cells": [
    {
      "cell_type": "markdown",
      "source": "# Exercise 2\n# (Markdown cell)\n\n# Final Project - Data Science Beginner",
      "metadata": {}
    },
    {
      "cell_type": "markdown",
      "source": "# Exercise 3\n## Introduction This covers fundamental concepts about data science using Python.\n",
      "metadata": {}
    },
    {
      "cell_type": "markdown",
      "source": "# Exercise 4\n\n## Data Science Languages\n\n- Python\n- R\n- SQL\n- Julia\n",
      "metadata": {}
    },
    {
      "cell_type": "markdown",
      "source": "# Exercise 5 - Data Science Libraries (Markdown)\n\n## Data Science Libraries\n- Pandas\n- NumPy\n- Matplotlib\n- TensorFlow\n- Scikit-learn",
      "metadata": {}
    },
    {
      "cell_type": "markdown",
      "source": "# Exercise 6\n\n## Data Science Tools Table\n\n| Tool           | Description                          |\n|----------------|--------------------------------------|\n| Jupyter        | Notebook interface for code & notes  |\n| GitHub         | Version control and collaboration    |\n| Watson Studio  | IBM cloud-based data science platform|\n| RStudio        | R programming                |\n",
      "metadata": {}
    },
    {
      "cell_type": "markdown",
      "source": "# Exercise 7\n\n## Arithmetic Expressions\n\nThe following examples demonstrate how to performs addition and multiplication in Python language.",
      "metadata": {}
    },
    {
      "cell_type": "code",
      "source": "# Exercise 8\n(4 * 5) + 3",
      "metadata": {
        "trusted": true
      },
      "outputs": [
        {
          "execution_count": 35,
          "output_type": "execute_result",
          "data": {
            "text/plain": "23"
          },
          "metadata": {}
        }
      ],
      "execution_count": 35
    },
    {
      "cell_type": "code",
      "source": "# Exercise 9 \nminutes = 150\nhours = minutes / 60\nhours",
      "metadata": {
        "trusted": true
      },
      "outputs": [
        {
          "execution_count": 36,
          "output_type": "execute_result",
          "data": {
            "text/plain": "2.5"
          },
          "metadata": {}
        }
      ],
      "execution_count": 36
    },
    {
      "cell_type": "markdown",
      "source": "# Exercise 10 \n## Objectives\n\n- List popular languages and libraries used in data science\n- Create and run arithmetic operations in code cells\n- Convert units using Python\n- Learn to structure a Jupyter notebook with Markdown and code",
      "metadata": {}
    },
    {
      "cell_type": "markdown",
      "source": "# Exercise 11 \n\n**Author:** Jiayi Liu",
      "metadata": {}
    },
    {
      "cell_type": "code",
      "source": "# Exercise 12 - GitHub Link (Markdown)\n\n[GitHub Notebook Link](https://github.com/jackliu2001/Coursera.git)\n",
      "metadata": {
        "trusted": true
      },
      "outputs": [
        {
          "ename": "<class 'SyntaxError'>",
          "evalue": "invalid syntax. Perhaps you forgot a comma? (<ipython-input-30-4fcb2db051bd>, line 3)",
          "traceback": [
            "\u001b[0;36m  Cell \u001b[0;32mIn[30], line 3\u001b[0;36m\u001b[0m\n\u001b[0;31m    [GitHub Notebook Link](https://github.com/jackliu2001/Coursera.git)\u001b[0m\n\u001b[0m     ^\u001b[0m\n\u001b[0;31mSyntaxError\u001b[0m\u001b[0;31m:\u001b[0m invalid syntax. Perhaps you forgot a comma?\n"
          ],
          "output_type": "error"
        }
      ],
      "execution_count": 30
    },
    {
      "cell_type": "code",
      "source": "",
      "metadata": {
        "trusted": true
      },
      "outputs": [],
      "execution_count": null
    }
  ]
}